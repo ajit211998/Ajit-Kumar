{
  "nbformat": 4,
  "nbformat_minor": 0,
  "metadata": {
    "colab": {
      "provenance": [],
      "authorship_tag": "ABX9TyM621hnqn4dLndo6cjc7dN+",
      "include_colab_link": true
    },
    "kernelspec": {
      "name": "python3",
      "display_name": "Python 3"
    },
    "language_info": {
      "name": "python"
    }
  },
  "cells": [
    {
      "cell_type": "markdown",
      "metadata": {
        "id": "view-in-github",
        "colab_type": "text"
      },
      "source": [
        "<a href=\"https://colab.research.google.com/github/ajit211998/Ajit-Kumar/blob/main/PW_Week_3_Feb_AssQ_Hindi.ipynb\" target=\"_parent\"><img src=\"https://colab.research.google.com/assets/colab-badge.svg\" alt=\"Open In Colab\"/></a>"
      ]
    },
    {
      "cell_type": "markdown",
      "source": [
        "Q1. Which keyword is used to create a function? Create a function to return a list of odd numbers in the\n",
        "range of 1 to 25."
      ],
      "metadata": {
        "id": "UYTIPZKIDDIK"
      }
    },
    {
      "cell_type": "code",
      "source": [
        "from os import X_OK\n",
        "\"\"\"def function and lambda function use to create a function\"\"\"\n",
        "\n",
        "x = 1\n",
        "y = 25\n",
        "l = []\n",
        "for i in range(x,y+1):\n",
        "  l.append(i)\n",
        "odd_num = list(filter(lambda x : (x%2!=0),l))\n",
        "print(odd_num)"
      ],
      "metadata": {
        "colab": {
          "base_uri": "https://localhost:8080/"
        },
        "id": "TF68Chx5DHrC",
        "outputId": "3de12868-08b1-4fb5-acb6-025752ea8519"
      },
      "execution_count": 3,
      "outputs": [
        {
          "output_type": "stream",
          "name": "stdout",
          "text": [
            "[1, 3, 5, 7, 9, 11, 13, 15, 17, 19, 21, 23, 25]\n"
          ]
        }
      ]
    },
    {
      "cell_type": "code",
      "source": [
        "x = 1\n",
        "y = 25\n",
        "for i in range(x,y+1):\n",
        "  if i%2!=0:\n",
        "    print(i,end= \" \")"
      ],
      "metadata": {
        "colab": {
          "base_uri": "https://localhost:8080/"
        },
        "id": "0O3EP-FTX3HY",
        "outputId": "a5bbd076-45c2-4ae3-a5ad-45b05bd4b1d5"
      },
      "execution_count": 7,
      "outputs": [
        {
          "output_type": "stream",
          "name": "stdout",
          "text": [
            "1 3 5 7 9 11 13 15 17 19 21 23 25 "
          ]
        }
      ]
    },
    {
      "cell_type": "code",
      "source": [
        "x= 1\n",
        "y = 25\n",
        "for i in range(x,y+1):\n",
        "  if i%2==0:\n",
        "    pass\n",
        "  else:\n",
        "    print(i, end= \" \")"
      ],
      "metadata": {
        "colab": {
          "base_uri": "https://localhost:8080/"
        },
        "id": "6_8CNl2YY-bo",
        "outputId": "18ffbe6c-8cda-4ab1-9564-24093dcd0703"
      },
      "execution_count": 9,
      "outputs": [
        {
          "output_type": "stream",
          "name": "stdout",
          "text": [
            "1 3 5 7 9 11 13 15 17 19 21 23 25 "
          ]
        }
      ]
    },
    {
      "cell_type": "code",
      "source": [
        "def test(x,y):\n",
        "  x = x!=0\n",
        "  return x"
      ],
      "metadata": {
        "id": "rCqK8iZPZYKM"
      },
      "execution_count": 10,
      "outputs": []
    },
    {
      "cell_type": "code",
      "source": [
        "test(1,25)"
      ],
      "metadata": {
        "colab": {
          "base_uri": "https://localhost:8080/"
        },
        "id": "--0jagYCbFVb",
        "outputId": "1fef5da6-683b-4587-e335-f7e7d3142cfb"
      },
      "execution_count": 11,
      "outputs": [
        {
          "output_type": "execute_result",
          "data": {
            "text/plain": [
              "True"
            ]
          },
          "metadata": {},
          "execution_count": 11
        }
      ]
    },
    {
      "cell_type": "code",
      "source": [
        "def odd(list):\n",
        "  x, y = 1,25\n",
        "  l = []\n",
        "  for i in list:\n",
        "    if i%2!= 0:\n",
        "      l.append(i)\n",
        "  return l"
      ],
      "metadata": {
        "id": "0qTWlS0abHSB"
      },
      "execution_count": 24,
      "outputs": []
    },
    {
      "cell_type": "markdown",
      "source": [
        "Q2. Why *args and **kwargs is used in some functions? Create a function each for *args and **kwargs\n",
        "to demonstrate their use."
      ],
      "metadata": {
        "id": "VtKH8EYdhNrg"
      }
    },
    {
      "cell_type": "code",
      "source": [
        "def test3(*arg):\n",
        "  return arg"
      ],
      "metadata": {
        "id": "hJgX6T6Lb5jo"
      },
      "execution_count": 29,
      "outputs": []
    },
    {
      "cell_type": "code",
      "source": [
        "type(test3())"
      ],
      "metadata": {
        "colab": {
          "base_uri": "https://localhost:8080/"
        },
        "id": "uOSxrw7OjY-Q",
        "outputId": "cecbab15-bb06-4692-d5c7-b9bddb7e696e"
      },
      "execution_count": 43,
      "outputs": [
        {
          "output_type": "execute_result",
          "data": {
            "text/plain": [
              "tuple"
            ]
          },
          "metadata": {},
          "execution_count": 43
        }
      ]
    },
    {
      "cell_type": "code",
      "source": [
        "test3(2,3,4,5,67)"
      ],
      "metadata": {
        "colab": {
          "base_uri": "https://localhost:8080/"
        },
        "id": "w-cNcNr_hXL2",
        "outputId": "ce8e8596-7280-4683-abe6-4e4fdb867421"
      },
      "execution_count": 44,
      "outputs": [
        {
          "output_type": "execute_result",
          "data": {
            "text/plain": [
              "(2, 3, 4, 5, 67)"
            ]
          },
          "metadata": {},
          "execution_count": 44
        }
      ]
    },
    {
      "cell_type": "code",
      "source": [
        "def test4(**kwarg):\n",
        "  return kwarg"
      ],
      "metadata": {
        "id": "S5XCMVNPhZTj"
      },
      "execution_count": 45,
      "outputs": []
    },
    {
      "cell_type": "code",
      "source": [
        "type(test4())"
      ],
      "metadata": {
        "colab": {
          "base_uri": "https://localhost:8080/"
        },
        "id": "oNc1VZUHhswk",
        "outputId": "69fc814a-cccf-4112-dc5a-420f02937bc7"
      },
      "execution_count": 46,
      "outputs": [
        {
          "output_type": "execute_result",
          "data": {
            "text/plain": [
              "dict"
            ]
          },
          "metadata": {},
          "execution_count": 46
        }
      ]
    },
    {
      "cell_type": "code",
      "source": [
        "test4(a = [1,2,3,45,56], b = [\"ajit\", \"kumar\"])"
      ],
      "metadata": {
        "colab": {
          "base_uri": "https://localhost:8080/"
        },
        "id": "sqC78fw8h3-c",
        "outputId": "6af19c48-35dc-4392-bad7-f5afd09a4396"
      },
      "execution_count": 49,
      "outputs": [
        {
          "output_type": "execute_result",
          "data": {
            "text/plain": [
              "{'a': [1, 2, 3, 45, 56], 'b': ['ajit', 'kumar']}"
            ]
          },
          "metadata": {},
          "execution_count": 49
        }
      ]
    },
    {
      "cell_type": "markdown",
      "source": [
        "Q3. What is an iterator in python? Name the method used to initialise the iterator object and the method\n",
        "used for iteration. Use these methods to print the first five elements of the given list [2, 4, 6, 8, 10, 12, 14,\n",
        "16, 18, 20]."
      ],
      "metadata": {
        "id": "nZy2XjcKkFQz"
      }
    },
    {
      "cell_type": "code",
      "source": [
        "\"\"\"### An iterator is an object that allow you to iterate over collections of data, such as lists tuples, dict, and sets.\n",
        "### The Python iterators object is initialized using the iter() method. It uses the next() method for iteration\"\"\""
      ],
      "metadata": {
        "colab": {
          "base_uri": "https://localhost:8080/",
          "height": 70
        },
        "id": "6yHLzaqUjpVb",
        "outputId": "f3c8b190-2677-48ec-c284-4159445d1bfa"
      },
      "execution_count": 57,
      "outputs": [
        {
          "output_type": "execute_result",
          "data": {
            "text/plain": [
              "'### An iterator is an object that allow you to iterate over collections of data, such as lists tuples, dict, and sets.\\n### The Python iterators object is initialized using the iter() method. It uses the next() method for iteration'"
            ],
            "application/vnd.google.colaboratory.intrinsic+json": {
              "type": "string"
            }
          },
          "metadata": {},
          "execution_count": 57
        }
      ]
    },
    {
      "cell_type": "code",
      "source": [
        "list = [2, 4, 6, 8, 10, 12, 14, 16, 18, 20]"
      ],
      "metadata": {
        "id": "XizZauKilyd7"
      },
      "execution_count": 58,
      "outputs": []
    },
    {
      "cell_type": "code",
      "source": [
        "l2 = iter(list)"
      ],
      "metadata": {
        "id": "4Wr1BGOslgBm"
      },
      "execution_count": 62,
      "outputs": []
    },
    {
      "cell_type": "code",
      "source": [
        "next(l2)"
      ],
      "metadata": {
        "colab": {
          "base_uri": "https://localhost:8080/"
        },
        "id": "VMwX8Ii7ljk5",
        "outputId": "481be098-c971-4ff9-a92d-4ee1cf0b827d"
      },
      "execution_count": 63,
      "outputs": [
        {
          "output_type": "execute_result",
          "data": {
            "text/plain": [
              "2"
            ]
          },
          "metadata": {},
          "execution_count": 63
        }
      ]
    },
    {
      "cell_type": "code",
      "source": [
        "next(l2)"
      ],
      "metadata": {
        "colab": {
          "base_uri": "https://localhost:8080/"
        },
        "id": "atL4bzJIlmEi",
        "outputId": "79e078cf-803d-4417-def6-b2d8a778433a"
      },
      "execution_count": 64,
      "outputs": [
        {
          "output_type": "execute_result",
          "data": {
            "text/plain": [
              "4"
            ]
          },
          "metadata": {},
          "execution_count": 64
        }
      ]
    },
    {
      "cell_type": "code",
      "source": [
        "next(l2)"
      ],
      "metadata": {
        "colab": {
          "base_uri": "https://localhost:8080/"
        },
        "id": "sYINxN7jmmlp",
        "outputId": "7f0fa532-6927-43d3-ccff-e9d1b8b2570f"
      },
      "execution_count": 65,
      "outputs": [
        {
          "output_type": "execute_result",
          "data": {
            "text/plain": [
              "6"
            ]
          },
          "metadata": {},
          "execution_count": 65
        }
      ]
    },
    {
      "cell_type": "code",
      "source": [
        "next(l2)"
      ],
      "metadata": {
        "colab": {
          "base_uri": "https://localhost:8080/"
        },
        "id": "ifkUOzEJmm9H",
        "outputId": "0fd695aa-1ac5-4204-a7b0-f89655e47b9d"
      },
      "execution_count": 66,
      "outputs": [
        {
          "output_type": "execute_result",
          "data": {
            "text/plain": [
              "8"
            ]
          },
          "metadata": {},
          "execution_count": 66
        }
      ]
    },
    {
      "cell_type": "code",
      "source": [
        "next(l2)"
      ],
      "metadata": {
        "colab": {
          "base_uri": "https://localhost:8080/"
        },
        "id": "fuH51n2RmnT-",
        "outputId": "1ebf216f-4819-4d4c-d61a-0c61942e4485"
      },
      "execution_count": 67,
      "outputs": [
        {
          "output_type": "execute_result",
          "data": {
            "text/plain": [
              "10"
            ]
          },
          "metadata": {},
          "execution_count": 67
        }
      ]
    },
    {
      "cell_type": "markdown",
      "source": [
        "Q4. What is a generator function in python? Why yield keyword is used? Give an example of a generator\n",
        "function."
      ],
      "metadata": {
        "id": "1GczU2nXnEHn"
      }
    },
    {
      "cell_type": "code",
      "source": [
        "\"\"\"in Python, generator  functions are those functions that, instead of retuerning a single value, return an iterable generator object.\"\"\"\n",
        "\"\"\" The yield keyword in python controls the flow of a generator function.\"\"\""
      ],
      "metadata": {
        "colab": {
          "base_uri": "https://localhost:8080/",
          "height": 36
        },
        "id": "oCowGcMUmnn7",
        "outputId": "2d63f83c-ae87-481a-d41a-54752eda7a03"
      },
      "execution_count": 69,
      "outputs": [
        {
          "output_type": "execute_result",
          "data": {
            "text/plain": [
              "' The yield keyword in python controls the flow of a generator function.'"
            ],
            "application/vnd.google.colaboratory.intrinsic+json": {
              "type": "string"
            }
          },
          "metadata": {},
          "execution_count": 69
        }
      ]
    },
    {
      "cell_type": "code",
      "source": [
        "def fun_fib(n):\n",
        "  a,b = 0,1\n",
        "  for i in range(n):\n",
        "    yield a\n",
        "    a,b = b,a+b"
      ],
      "metadata": {
        "id": "dbGdVDL1rRsq"
      },
      "execution_count": 76,
      "outputs": []
    },
    {
      "cell_type": "code",
      "source": [
        "for i in fun_fib(10):\n",
        "  print(i,end = \"  \")"
      ],
      "metadata": {
        "colab": {
          "base_uri": "https://localhost:8080/"
        },
        "id": "D84A96lgsfm7",
        "outputId": "21ff2b6a-6aab-49d5-b200-e5fc3a86cae0"
      },
      "execution_count": 79,
      "outputs": [
        {
          "output_type": "stream",
          "name": "stdout",
          "text": [
            "0  1  1  2  3  5  8  13  21  34  "
          ]
        }
      ]
    },
    {
      "cell_type": "markdown",
      "source": [
        "Q5. Create a generator function for prime numbers less than 1000. Use the next() method to print the\n",
        "first 20 prime numbers."
      ],
      "metadata": {
        "id": "PgGsk5CxupJF"
      }
    },
    {
      "cell_type": "code",
      "source": [
        "l  = []\n",
        "for i in range (2,1000):\n",
        "  isprime = True\n",
        "  for x in range(2, i):\n",
        "    if i % x ==0:\n",
        "      isprime = False\n",
        "      break\n",
        "  if isprime:\n",
        "    l.append(i)\n"
      ],
      "metadata": {
        "id": "QDdvufW8talT"
      },
      "execution_count": 80,
      "outputs": []
    },
    {
      "cell_type": "code",
      "source": [
        "i = 20\n",
        "isprime = True\n",
        "for x in range(2,i):\n",
        "  print(x)\n",
        "  if i%x == 0:\n",
        "    isprime = False"
      ],
      "metadata": {
        "colab": {
          "base_uri": "https://localhost:8080/"
        },
        "id": "JRMsSDv-yGOe",
        "outputId": "309d7efd-e910-4934-ac5c-c32aa3294d6b"
      },
      "execution_count": 82,
      "outputs": [
        {
          "output_type": "stream",
          "name": "stdout",
          "text": [
            "2\n",
            "3\n",
            "4\n",
            "5\n",
            "6\n",
            "7\n",
            "8\n",
            "9\n",
            "10\n",
            "11\n",
            "12\n",
            "13\n",
            "14\n",
            "15\n",
            "16\n",
            "17\n",
            "18\n",
            "19\n"
          ]
        }
      ]
    },
    {
      "cell_type": "markdown",
      "source": [
        "Q6. Write a python program to print the first 10 Fibonacci numbers using a while loop."
      ],
      "metadata": {
        "id": "BqRZnYiJ8WuK"
      }
    },
    {
      "cell_type": "code",
      "source": [
        "def fibo():\n",
        "  a,b = 0,1\n",
        "  while True:\n",
        "    yield a\n",
        "    a,b = b,a+b"
      ],
      "metadata": {
        "id": "12sO2nsqyw9T"
      },
      "execution_count": 88,
      "outputs": []
    },
    {
      "cell_type": "code",
      "source": [
        "fib = fibo()"
      ],
      "metadata": {
        "id": "vi7fZp-D81MQ"
      },
      "execution_count": 89,
      "outputs": []
    },
    {
      "cell_type": "code",
      "source": [
        "for i in range(10):\n",
        "  print(next(fib))"
      ],
      "metadata": {
        "colab": {
          "base_uri": "https://localhost:8080/"
        },
        "id": "NkxIO12688M7",
        "outputId": "86fd8b57-6cef-4f6b-d983-ff85ddae2a62"
      },
      "execution_count": 90,
      "outputs": [
        {
          "output_type": "stream",
          "name": "stdout",
          "text": [
            "0\n",
            "1\n",
            "1\n",
            "2\n",
            "3\n",
            "5\n",
            "8\n",
            "13\n",
            "21\n",
            "34\n"
          ]
        }
      ]
    },
    {
      "cell_type": "markdown",
      "source": [
        "Q7. Write a List Comprehension to iterate through the given string: ‘pwskills’.\n",
        "Expected output: ['p', 'w', 's', 'k', 'i', 'l', 'l', 's']"
      ],
      "metadata": {
        "id": "7552CYMk-GWG"
      }
    },
    {
      "cell_type": "code",
      "source": [
        "a = [x for x in \"pwskills\"]\n",
        "print(a)"
      ],
      "metadata": {
        "colab": {
          "base_uri": "https://localhost:8080/"
        },
        "id": "lxf_NxE59GYo",
        "outputId": "989f1f7a-47dc-413e-eea1-5b5b9a839d66"
      },
      "execution_count": 108,
      "outputs": [
        {
          "output_type": "stream",
          "name": "stdout",
          "text": [
            "['p', 'w', 's', 'k', 'i', 'l', 'l', 's']\n"
          ]
        }
      ]
    },
    {
      "cell_type": "code",
      "source": [
        "string = 'pwskills'\n",
        "output = [char for char in string]\n",
        "print(output)"
      ],
      "metadata": {
        "colab": {
          "base_uri": "https://localhost:8080/"
        },
        "id": "ZrnOFBoMAVIv",
        "outputId": "2f1c01f4-6cf1-4498-b229-1a884681dd98"
      },
      "execution_count": 113,
      "outputs": [
        {
          "output_type": "stream",
          "name": "stdout",
          "text": [
            "['p', 'w', 's', 'k', 'i', 'l', 'l', 's']\n"
          ]
        }
      ]
    },
    {
      "cell_type": "markdown",
      "source": [
        "Q8. Write a python program to check whether a given number is Palindrome or not using a while loop."
      ],
      "metadata": {
        "id": "jd-V-COuDzG4"
      }
    },
    {
      "cell_type": "code",
      "source": [
        "def checkPalindrome(original):\n",
        "  reverseNum = 0\n",
        "  tempOriginal = original\n",
        "\n",
        "  while (tempOriginal > 0):\n",
        "    lastDigit = tempOriginal % 10\n",
        "    reverseNum = reverseNum * 10 + lastDigit\n",
        "    tempOriginal = tempOriginal / 10\n",
        "  if (original == reverseNum):\n",
        "    return 1\n",
        "  else:\n",
        "    return 0"
      ],
      "metadata": {
        "id": "3mUpr3WNAWjx"
      },
      "execution_count": 1,
      "outputs": []
    },
    {
      "cell_type": "code",
      "source": [
        "n = int(input(\"Enter a No \"))\n",
        "def reverse(num):\n",
        "  if num<10:\n",
        "    return num\n",
        "  else:\n",
        "    return int(str(num%10) + str(reverse(num//10)))\n",
        "def isPalindrome(num):\n",
        "  if num == reverse(num):\n",
        "    return 1\n",
        "  return 0\n",
        "if isPalindrome(n) == 1:\n",
        "  print(\"No is palindrome \")\n",
        "else:\n",
        "  print(\"No is no a Palindrome\")"
      ],
      "metadata": {
        "colab": {
          "base_uri": "https://localhost:8080/"
        },
        "id": "mMj03CORAYKE",
        "outputId": "c05df57d-db90-47dd-b296-ad70f03939ea"
      },
      "execution_count": 9,
      "outputs": [
        {
          "output_type": "stream",
          "name": "stdout",
          "text": [
            "Enter a No 1221\n",
            "No is palindrome \n"
          ]
        }
      ]
    },
    {
      "cell_type": "markdown",
      "source": [
        "Q9. Write a code to print odd numbers from 1 to 100 using list comprehension."
      ],
      "metadata": {
        "id": "U6P2P4gtqnNp"
      }
    },
    {
      "cell_type": "code",
      "source": [
        "[odd for odd in range(1,100) if odd%2!=0]"
      ],
      "metadata": {
        "colab": {
          "base_uri": "https://localhost:8080/"
        },
        "id": "Dw2sge9DxAO_",
        "outputId": "b8ae6c94-6e2b-4ba6-98fa-1489af55a708"
      },
      "execution_count": 22,
      "outputs": [
        {
          "output_type": "execute_result",
          "data": {
            "text/plain": [
              "[1,\n",
              " 3,\n",
              " 5,\n",
              " 7,\n",
              " 9,\n",
              " 11,\n",
              " 13,\n",
              " 15,\n",
              " 17,\n",
              " 19,\n",
              " 21,\n",
              " 23,\n",
              " 25,\n",
              " 27,\n",
              " 29,\n",
              " 31,\n",
              " 33,\n",
              " 35,\n",
              " 37,\n",
              " 39,\n",
              " 41,\n",
              " 43,\n",
              " 45,\n",
              " 47,\n",
              " 49,\n",
              " 51,\n",
              " 53,\n",
              " 55,\n",
              " 57,\n",
              " 59,\n",
              " 61,\n",
              " 63,\n",
              " 65,\n",
              " 67,\n",
              " 69,\n",
              " 71,\n",
              " 73,\n",
              " 75,\n",
              " 77,\n",
              " 79,\n",
              " 81,\n",
              " 83,\n",
              " 85,\n",
              " 87,\n",
              " 89,\n",
              " 91,\n",
              " 93,\n",
              " 95,\n",
              " 97,\n",
              " 99]"
            ]
          },
          "metadata": {},
          "execution_count": 22
        }
      ]
    },
    {
      "cell_type": "code",
      "source": [],
      "metadata": {
        "id": "VGYZ8aBb1WQJ"
      },
      "execution_count": null,
      "outputs": []
    }
  ]
}