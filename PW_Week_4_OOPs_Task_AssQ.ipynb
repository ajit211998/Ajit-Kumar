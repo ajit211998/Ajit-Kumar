{
  "nbformat": 4,
  "nbformat_minor": 0,
  "metadata": {
    "colab": {
      "provenance": [],
      "authorship_tag": "ABX9TyMYst91JYK/i4wlL500NtkL",
      "include_colab_link": true
    },
    "kernelspec": {
      "name": "python3",
      "display_name": "Python 3"
    },
    "language_info": {
      "name": "python"
    }
  },
  "cells": [
    {
      "cell_type": "markdown",
      "metadata": {
        "id": "view-in-github",
        "colab_type": "text"
      },
      "source": [
        "<a href=\"https://colab.research.google.com/github/ajit211998/Ajit-Kumar/blob/main/PW_Week_4_OOPs_Task_AssQ.ipynb\" target=\"_parent\"><img src=\"https://colab.research.google.com/assets/colab-badge.svg\" alt=\"Open In Colab\"/></a>"
      ]
    },
    {
      "cell_type": "markdown",
      "source": [
        "Q1, Create a vehicle class with an init method having instance variables as name_of_vehicle, max_speed\n",
        "and average_of_vehicle."
      ],
      "metadata": {
        "id": "iOWh-ar86g6M"
      }
    },
    {
      "cell_type": "code",
      "source": [
        "class vehicle:\n",
        "  def __init__(self, name_of_vehicle, max_speed, avg_of_vehicle):\n",
        "    self.name_of_vehicle = name_of_vehicle\n",
        "    self.max_speed = max_speed\n",
        "    self.avg_of_vehicle = avg_of_vehicle\n",
        "\n",
        "  def vehicle_details(self):\n",
        "    return self.name_of_vehicle, self.max_speed, self.avg_of_vehicle"
      ],
      "metadata": {
        "id": "-Kpc0Ghk6loB"
      },
      "execution_count": 11,
      "outputs": []
    },
    {
      "cell_type": "code",
      "source": [
        "car = vehicle(\"toyoto\", 100, 123)"
      ],
      "metadata": {
        "id": "gV0BtXbM73DR"
      },
      "execution_count": 12,
      "outputs": []
    },
    {
      "cell_type": "code",
      "source": [
        "car.vehicle_details()"
      ],
      "metadata": {
        "colab": {
          "base_uri": "https://localhost:8080/"
        },
        "id": "pdR4yB4o75Os",
        "outputId": "5b00f779-521c-40f8-c969-0dd544acbefd"
      },
      "execution_count": 13,
      "outputs": [
        {
          "output_type": "execute_result",
          "data": {
            "text/plain": [
              "('toyoto', 100, 123)"
            ]
          },
          "metadata": {},
          "execution_count": 13
        }
      ]
    },
    {
      "cell_type": "markdown",
      "source": [
        "Q2. Create a child class car from the vehicle class created in Que 1, which will inherit the vehicle class.\n",
        "Create a method named seating_capacity which takes capacity as an argument and returns the name of\n",
        "the vehicle and its seating capacity."
      ],
      "metadata": {
        "id": "452yJs719f0U"
      }
    },
    {
      "cell_type": "code",
      "source": [
        "class vehicle:\n",
        "  def __init__(self, name_of_vehicle, max_speed, avg_of_vehicle):\n",
        "    self.name_of_vehicle = name_of_vehicle\n",
        "    self.max_speed = max_speed\n",
        "    self.avg_of_vehicle = avg_of_vehicle\n",
        "\n",
        "  def seating_capacity(self, capacity = 5):\n",
        "    return f\"The seating capacity of a {self.name_of_vehicle} is {capacity} passengers\"\n"
      ],
      "metadata": {
        "id": "nI3TBlNX9HpI"
      },
      "execution_count": 23,
      "outputs": []
    },
    {
      "cell_type": "code",
      "source": [
        "class car(vehicle):\n",
        "\n",
        "  def seating_capacity(self, capacity=5):\n",
        "    return f\"The seating capacity of a {self.name_of_vehicle} is {capacity} passengers\"\n",
        "car(\"toyoto\", 120,100).seating_capacity()"
      ],
      "metadata": {
        "colab": {
          "base_uri": "https://localhost:8080/",
          "height": 36
        },
        "id": "jA1ahw8K_Qj_",
        "outputId": "c5d6cc7f-f2be-4af4-b9fd-a86dd3b6b18a"
      },
      "execution_count": 30,
      "outputs": [
        {
          "output_type": "execute_result",
          "data": {
            "text/plain": [
              "'The seating capacity of a toyoto is 5 passengers'"
            ],
            "application/vnd.google.colaboratory.intrinsic+json": {
              "type": "string"
            }
          },
          "metadata": {},
          "execution_count": 30
        }
      ]
    },
    {
      "cell_type": "markdown",
      "source": [
        "Q3. What is multiple inheritance? Write a python code to demonstrate multiple inheritance."
      ],
      "metadata": {
        "id": "hrmhV1uGC6Z4"
      }
    },
    {
      "cell_type": "markdown",
      "source": [
        "When a class is derived from more than one base class is called multiple inheritance."
      ],
      "metadata": {
        "id": "qrO7AkztDEaE"
      }
    },
    {
      "cell_type": "code",
      "source": [
        "class test1:\n",
        "  def car(self):\n",
        "    return \"this is my first car\""
      ],
      "metadata": {
        "id": "fPNa2PmdAbgi"
      },
      "execution_count": 31,
      "outputs": []
    },
    {
      "cell_type": "code",
      "source": [
        "class test2(test1):\n",
        "  def bas(self):\n",
        "    return \"this is my first bus\""
      ],
      "metadata": {
        "id": "bZoQTOGAD0a_"
      },
      "execution_count": 33,
      "outputs": []
    },
    {
      "cell_type": "code",
      "source": [
        "class test3(test2, test1):\n",
        "  pass"
      ],
      "metadata": {
        "id": "436WnyJAD7Yu"
      },
      "execution_count": 40,
      "outputs": []
    },
    {
      "cell_type": "code",
      "source": [
        "obj_test3 = test3()"
      ],
      "metadata": {
        "id": "pfr9gjcxEK0U"
      },
      "execution_count": 44,
      "outputs": []
    },
    {
      "cell_type": "code",
      "source": [
        "obj_test3.car()"
      ],
      "metadata": {
        "colab": {
          "base_uri": "https://localhost:8080/",
          "height": 36
        },
        "id": "IThl56weEWVS",
        "outputId": "a988827e-38e9-4b29-ea5a-3eb7b6bfed8e"
      },
      "execution_count": 45,
      "outputs": [
        {
          "output_type": "execute_result",
          "data": {
            "text/plain": [
              "'this is my first car'"
            ],
            "application/vnd.google.colaboratory.intrinsic+json": {
              "type": "string"
            }
          },
          "metadata": {},
          "execution_count": 45
        }
      ]
    },
    {
      "cell_type": "code",
      "source": [
        "obj_test3.bas()"
      ],
      "metadata": {
        "colab": {
          "base_uri": "https://localhost:8080/",
          "height": 36
        },
        "id": "QD8YixhWEaFc",
        "outputId": "4244cb91-c1da-4057-e7d2-1ea973c2e756"
      },
      "execution_count": 46,
      "outputs": [
        {
          "output_type": "execute_result",
          "data": {
            "text/plain": [
              "'this is my first bus'"
            ],
            "application/vnd.google.colaboratory.intrinsic+json": {
              "type": "string"
            }
          },
          "metadata": {},
          "execution_count": 46
        }
      ]
    },
    {
      "cell_type": "markdown",
      "source": [
        "Q4. What are getter and setter in python? Create a class and create a getter and a setter method in this\n",
        "class."
      ],
      "metadata": {
        "id": "vqjYtTUDWpIr"
      }
    },
    {
      "cell_type": "markdown",
      "source": [
        "A setter updates the value of a variable, while a getter reads the value of a variable.\n",
        "\n",
        "Getter methods are concerned with fetching the updated value of a variable, while a setter method is used to set or update an existing variable's value."
      ],
      "metadata": {
        "id": "lUWFFfVMXplD"
      }
    },
    {
      "cell_type": "code",
      "source": [
        "class student:\n",
        "  def __init__(self, age = 0):\n",
        "    self._age = age\n",
        "\n",
        "  # use getter method\n",
        "  def get_age(self):\n",
        "    return self._age\n",
        "\n",
        "  #use setter method\n",
        "  def set_age(self,a):\n",
        "    self._age = a\n",
        "\n",
        "anup = student()\n",
        "\n",
        "anup.set_age(21)\n",
        "\n",
        "print(anup.get_age())\n",
        "\n",
        "print(anup._age)"
      ],
      "metadata": {
        "colab": {
          "base_uri": "https://localhost:8080/"
        },
        "id": "YVDcnSHfWf8C",
        "outputId": "76cdc728-1f2b-490f-8f56-a71f8bee48d5"
      },
      "execution_count": 48,
      "outputs": [
        {
          "output_type": "stream",
          "name": "stdout",
          "text": [
            "21\n",
            "21\n"
          ]
        }
      ]
    },
    {
      "cell_type": "markdown",
      "source": [
        "Q5.What is method overriding in python? Write a python code to demonstrate method overriding."
      ],
      "metadata": {
        "id": "vg9XX9BMdLeQ"
      }
    },
    {
      "cell_type": "markdown",
      "source": [
        "a method in a subclass that replaces a method in a superclass when both methods share the same name, parameters, signature, and return type (or sub-type)."
      ],
      "metadata": {
        "id": "Dd2rLqw7eddL"
      }
    },
    {
      "cell_type": "code",
      "source": [
        " class parent1():\n",
        "  def show(self):\n",
        "    print(\"inside parent1\")"
      ],
      "metadata": {
        "id": "IpjPAIJyanUT"
      },
      "execution_count": 49,
      "outputs": []
    },
    {
      "cell_type": "code",
      "source": [
        "class parent2():\n",
        "  def display(self):\n",
        "    print(\"inside parent2\")"
      ],
      "metadata": {
        "id": "QJbsTTJ9hsXy"
      },
      "execution_count": 50,
      "outputs": []
    },
    {
      "cell_type": "code",
      "source": [
        "class child(parent1,parent2):\n",
        "  def show(self):\n",
        "    print(\"inside child\")"
      ],
      "metadata": {
        "id": "Ed-8kxWph4Eq"
      },
      "execution_count": 51,
      "outputs": []
    },
    {
      "cell_type": "code",
      "source": [
        "obj = child()"
      ],
      "metadata": {
        "id": "17yQzaWZiG98"
      },
      "execution_count": 52,
      "outputs": []
    },
    {
      "cell_type": "code",
      "source": [
        "obj.show()"
      ],
      "metadata": {
        "colab": {
          "base_uri": "https://localhost:8080/"
        },
        "id": "HgXjBDhsiKqM",
        "outputId": "af76fb11-6fee-4e87-f25d-a464d84784b0"
      },
      "execution_count": 53,
      "outputs": [
        {
          "output_type": "stream",
          "name": "stdout",
          "text": [
            "inside child\n"
          ]
        }
      ]
    },
    {
      "cell_type": "code",
      "source": [
        "obj.display()"
      ],
      "metadata": {
        "colab": {
          "base_uri": "https://localhost:8080/"
        },
        "id": "3DxWWMEjiNAU",
        "outputId": "a88bff77-0199-427e-8c7f-975dbd0d1629"
      },
      "execution_count": 55,
      "outputs": [
        {
          "output_type": "stream",
          "name": "stdout",
          "text": [
            "inside parent2\n"
          ]
        }
      ]
    },
    {
      "cell_type": "code",
      "source": [],
      "metadata": {
        "id": "kd7aCW-YiO3S"
      },
      "execution_count": null,
      "outputs": []
    }
  ]
}