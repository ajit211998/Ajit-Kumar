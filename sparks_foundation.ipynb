{
  "nbformat": 4,
  "nbformat_minor": 0,
  "metadata": {
    "colab": {
      "name": "sparks_foundation.ipynb",
      "private_outputs": true,
      "provenance": [],
      "history_visible": true,
      "authorship_tag": "ABX9TyMkYitaO7QHHD47RJzfjfb2",
      "include_colab_link": true
    },
    "kernelspec": {
      "name": "python3",
      "display_name": "Python 3"
    },
    "language_info": {
      "name": "python"
    },
    "accelerator": "GPU"
  },
  "cells": [
    {
      "cell_type": "markdown",
      "metadata": {
        "id": "view-in-github",
        "colab_type": "text"
      },
      "source": [
        "<a href=\"https://colab.research.google.com/github/ajit211998/Ajit-Kumar/blob/main/sparks_foundation.ipynb\" target=\"_parent\"><img src=\"https://colab.research.google.com/assets/colab-badge.svg\" alt=\"Open In Colab\"/></a>"
      ]
    },
    {
      "cell_type": "markdown",
      "metadata": {
        "id": "AS2-aaPdocki"
      },
      "source": [
        "# GRIP: The Sparks Foundation\n",
        "### Data Science and Business Analytics Intern\n",
        "### Prediction using Supervised ML"
      ]
    },
    {
      "cell_type": "markdown",
      "metadata": {
        "id": "8YrOUIlHohyN"
      },
      "source": [
        "In this task we have to predict the percentage score of a student based on the number of hours studied. The task has two variables where the feature is the no. of hours studied and target value is the percentage score. This can be solved using simple linear regression."
      ]
    },
    {
      "cell_type": "code",
      "metadata": {
        "id": "AWmY7kvMoeGn"
      },
      "source": [
        "import numpy as np\n",
        "import pandas as pd\n",
        "import matplotlib.pyplot as plt\n",
        "import seaborn as sns"
      ],
      "execution_count": null,
      "outputs": []
    },
    {
      "cell_type": "code",
      "metadata": {
        "id": "S01BVnYNolRh"
      },
      "source": [
        "url = \"http://bit.ly/w-data\"\n",
        "data = pd.read_csv(url)\n",
        "data.head()"
      ],
      "execution_count": null,
      "outputs": []
    },
    {
      "cell_type": "code",
      "metadata": {
        "id": "BVq13iXNooix"
      },
      "source": [
        "print(data.shape)"
      ],
      "execution_count": null,
      "outputs": []
    },
    {
      "cell_type": "code",
      "metadata": {
        "id": "yyrv8mIQorgy"
      },
      "source": [
        "data.describe()"
      ],
      "execution_count": null,
      "outputs": []
    },
    {
      "cell_type": "code",
      "metadata": {
        "id": "nBaIYtjWox27"
      },
      "source": [
        "data.info()"
      ],
      "execution_count": null,
      "outputs": []
    },
    {
      "cell_type": "code",
      "metadata": {
        "id": "5GzPoMrjo4E3"
      },
      "source": [
        "data.plot(x='Hours', y='Scores', style='*')  \n",
        "plt.title('Hours vs Percentage')  \n",
        "plt.xlabel('Hours Studied')  \n",
        "plt.ylabel('Percentage Score')  \n",
        "plt.show()"
      ],
      "execution_count": null,
      "outputs": []
    },
    {
      "cell_type": "markdown",
      "metadata": {
        "id": "pgfWAPF5o_Tu"
      },
      "source": [
        "From the graph above, we can clearly see that there is a positive linear relation between the number of hours studied and percentage of score."
      ]
    },
    {
      "cell_type": "code",
      "metadata": {
        "id": "Is3ci1-zo6wc"
      },
      "source": [
        "# The next step is to divide the data into \"attributes\" (inputs) and \"labels\" (outputs).\n",
        "X = data.iloc[:, :-1].values  \n",
        "y = data.iloc[:, :1].values  \n"
      ],
      "execution_count": null,
      "outputs": []
    },
    {
      "cell_type": "markdown",
      "metadata": {
        "id": "Ulb3nlNZqhCI"
      },
      "source": [
        "Now that we have our attributes and labels, the next step is to split this data into training and test sets. We'll do this by using Scikit-Learn's built-in train_test_split() method:\n",
        "\n"
      ]
    },
    {
      "cell_type": "code",
      "metadata": {
        "id": "vITRfIs4qhvD"
      },
      "source": [
        "from sklearn.model_selection import train_test_split  \n",
        "X_train, X_test, y_train, y_test = train_test_split(X, y, \n",
        "                            test_size=0.2, random_state=0) "
      ],
      "execution_count": null,
      "outputs": []
    },
    {
      "cell_type": "code",
      "metadata": {
        "id": "12w-Mvx2qkQG"
      },
      "source": [
        "#Training the Algorithm\n",
        "#We have split our data into training and testing sets, and now is finally the time to train our algorithm.\n",
        "\n",
        "\n",
        "from sklearn.linear_model import LinearRegression  \n",
        "regressor = LinearRegression()  \n",
        "regressor.fit(X_train, y_train) \n",
        "\n",
        "print(\"Training complete.\")"
      ],
      "execution_count": null,
      "outputs": []
    },
    {
      "cell_type": "code",
      "metadata": {
        "id": "1kfMo1qXqq9l"
      },
      "source": [
        "# Plotting the regression line\n",
        "line = regressor.coef_*X+regressor.intercept_\n",
        "\n",
        "# Plotting for the test data\n",
        "plt.scatter(X, y)\n",
        "plt.plot(X, line);\n",
        "plt.show()"
      ],
      "execution_count": null,
      "outputs": []
    },
    {
      "cell_type": "markdown",
      "metadata": {
        "id": "A432Dx57q0Rw"
      },
      "source": [
        "# Making Predictions\n",
        "### Now that we have trained our algorithm, it's time to make some predictions."
      ]
    },
    {
      "cell_type": "code",
      "metadata": {
        "id": "hND0O61Gq1Cd"
      },
      "source": [
        "print(X_test) # Testing data - In Hours\n",
        "y_pred = regressor.predict(X_test) # Predicting the scores"
      ],
      "execution_count": null,
      "outputs": []
    },
    {
      "cell_type": "markdown",
      "metadata": {
        "id": "Uk4U701wsQRA"
      },
      "source": [
        "### Evaluating the model\n",
        "The final step is to evaluate the performance of algorithm. This step is particularly important to compare how well different algorithms perform on a particular dataset. For simplicity here, we have chosen the mean square error. There are many such metrics."
      ]
    },
    {
      "cell_type": "code",
      "metadata": {
        "id": "upPv9HBKsRRC"
      },
      "source": [
        "from sklearn import metrics  \n",
        "print('Mean Absolute Error:', \n",
        "      metrics.mean_absolute_error(y_test, y_pred)) "
      ],
      "execution_count": null,
      "outputs": []
    },
    {
      "cell_type": "markdown",
      "metadata": {
        "id": "GMZTlD0TsYkf"
      },
      "source": [
        ""
      ]
    },
    {
      "cell_type": "markdown",
      "metadata": {
        "id": "KHZCjv2esYnq"
      },
      "source": [
        "# Prediction using Unsupervised ML"
      ]
    },
    {
      "cell_type": "markdown",
      "metadata": {
        "id": "B7sdALRYsYss"
      },
      "source": [
        "### From the given ‘Iris’ dataset, predict the optimum number of clusters and represent it visually."
      ]
    },
    {
      "cell_type": "code",
      "metadata": {
        "id": "KxH7SNl5sg8R"
      },
      "source": [
        "import numpy as np\n",
        "import pandas as pd\n",
        "import matplotlib.pyplot as plt\n",
        "from sklearn import datasets"
      ],
      "execution_count": null,
      "outputs": []
    },
    {
      "cell_type": "code",
      "metadata": {
        "id": "XnrbGSwjsjew"
      },
      "source": [
        "# Load the iris dataset\n",
        "iris = datasets.load_iris()\n",
        "iris_df = pd.DataFrame(iris.data, columns = iris.feature_names)\n",
        "iris_df.head() # See the first 5 rows"
      ],
      "execution_count": null,
      "outputs": []
    },
    {
      "cell_type": "markdown",
      "metadata": {
        "id": "TvotidOIspbw"
      },
      "source": [
        "How do you find the optimum number of clusters for K Means? How does one determine the value of K?"
      ]
    },
    {
      "cell_type": "code",
      "metadata": {
        "id": "9YnHbwx1smQ3"
      },
      "source": [
        "# Finding the optimum number of clusters for k-means classification\n",
        "\n",
        "x = iris_df.iloc[:, [0, 1, 2, 3]].values\n",
        "\n",
        "from sklearn.cluster import KMeans\n",
        "wcss = []\n",
        "\n",
        "for i in range(1, 11):\n",
        "    kmeans = KMeans(n_clusters = i, init = 'k-means++', \n",
        "                    max_iter = 300, n_init = 10, random_state = 0)\n",
        "    kmeans.fit(x)\n",
        "    wcss.append(kmeans.inertia_)\n",
        "    \n",
        "# Plotting the results into a line graph, \n",
        "# allowing us to observe 'The elbow'\n",
        "plt.plot(range(1, 11), wcss)\n",
        "plt.title('The elbow method')\n",
        "plt.xlabel('Number of clusters')\n",
        "plt.ylabel('WCSS') # Within cluster sum of squares\n",
        "plt.show()"
      ],
      "execution_count": null,
      "outputs": []
    },
    {
      "cell_type": "markdown",
      "metadata": {
        "id": "TjbEaMQUtMXu"
      },
      "source": [
        ""
      ]
    },
    {
      "cell_type": "markdown",
      "metadata": {
        "id": "MeZ36KhatMoJ"
      },
      "source": [
        "You can clearly see why it is called 'The elbow method' from the above graph, the optimum clusters is where the elbow occurs. This is when the within cluster sum of squares (WCSS) doesn't decrease significantly with every iteration.\n",
        "\n",
        "From this we choose the number of clusters as ** '3**'."
      ]
    },
    {
      "cell_type": "code",
      "metadata": {
        "id": "azIzexcLsskx"
      },
      "source": [
        "# Applying kmeans to the dataset / Creating the kmeans classifier\n",
        "kmeans = KMeans(n_clusters = 3, init = 'k-means++',\n",
        "                max_iter = 300, n_init = 10, random_state = 0)\n",
        "y_kmeans = kmeans.fit_predict(x)"
      ],
      "execution_count": null,
      "outputs": []
    },
    {
      "cell_type": "code",
      "metadata": {
        "id": "7rsDSJ8UtSDC"
      },
      "source": [
        "# Visualising the clusters - On the first two columns\n",
        "plt.scatter(x[y_kmeans == 0, 0], x[y_kmeans == 0, 1], \n",
        "            s = 100, c = 'red', label = 'Iris-setosa')\n",
        "plt.scatter(x[y_kmeans == 1, 0], x[y_kmeans == 1, 1], \n",
        "            s = 100, c = 'blue', label = 'Iris-versicolour')\n",
        "plt.scatter(x[y_kmeans == 2, 0], x[y_kmeans == 2, 1],\n",
        "            s = 100, c = 'green', label = 'Iris-virginica')\n",
        "\n",
        "# Plotting the centroids of the clusters\n",
        "plt.scatter(kmeans.cluster_centers_[:, 0], kmeans.cluster_centers_[:,1], \n",
        "            s = 100, c = 'yellow', label = 'Centroids')\n",
        "\n",
        "plt.legend()"
      ],
      "execution_count": null,
      "outputs": []
    },
    {
      "cell_type": "markdown",
      "metadata": {
        "id": "VGojYOF3uCAG"
      },
      "source": [
        "# Exploratory Data Analysis - Retail\n",
        "(Level - Beginner)\n"
      ]
    },
    {
      "cell_type": "markdown",
      "metadata": {
        "id": "NxLwvIVtuNDM"
      },
      "source": [
        "# Task3: ‘Exploratory Data Analysis’ on dataset ‘SampleSuperstore’ "
      ]
    },
    {
      "cell_type": "markdown",
      "metadata": {
        "id": "x77PWr85NsQ0"
      },
      "source": [
        "Here, i will perform 'EDA' on a given dataset As a business manager, try to find out the weak areas where we can work to make profit and what all business problems we can derive by exploring the data"
      ]
    },
    {
      "cell_type": "code",
      "metadata": {
        "id": "ptX3L4YJOo3e"
      },
      "source": [
        "import numpy as np\n",
        "import pandas as pd\n",
        "import seaborn as sns\n",
        "import warnings\n",
        "warnings.filterwarnings('ignore')\n",
        "import matplotlib.pyplot as plt\n"
      ],
      "execution_count": null,
      "outputs": []
    },
    {
      "cell_type": "markdown",
      "metadata": {
        "id": "-yVR5pU2PLX2"
      },
      "source": [
        "# Read the given dataset"
      ]
    },
    {
      "cell_type": "code",
      "metadata": {
        "id": "X6zc2SQEPFHJ"
      },
      "source": [
        "sample_data = pd.read_csv(\"/content/SampleSuperstore.csv\")"
      ],
      "execution_count": null,
      "outputs": []
    },
    {
      "cell_type": "code",
      "metadata": {
        "id": "G7msoAlhPdL9"
      },
      "source": [
        "sample_data.head()"
      ],
      "execution_count": null,
      "outputs": []
    },
    {
      "cell_type": "code",
      "metadata": {
        "id": "A6s3QQYrQB_6"
      },
      "source": [
        "sample_data.shape"
      ],
      "execution_count": null,
      "outputs": []
    },
    {
      "cell_type": "code",
      "metadata": {
        "id": "ES1ZgCRTQKz_"
      },
      "source": [
        "sample_data.describe()"
      ],
      "execution_count": null,
      "outputs": []
    },
    {
      "cell_type": "code",
      "metadata": {
        "id": "Cyv3tXT9QNrE"
      },
      "source": [
        "sample_data.info()"
      ],
      "execution_count": null,
      "outputs": []
    },
    {
      "cell_type": "code",
      "metadata": {
        "id": "wcX3n4PVQUHJ"
      },
      "source": [
        "sample_data['Category'].value_counts()"
      ],
      "execution_count": null,
      "outputs": []
    },
    {
      "cell_type": "code",
      "metadata": {
        "id": "Xhv39clRQ6M-"
      },
      "source": [
        "sample_data.duplicated().sum()"
      ],
      "execution_count": null,
      "outputs": []
    },
    {
      "cell_type": "code",
      "metadata": {
        "id": "59rYJ_8jRH3R"
      },
      "source": [
        "sample_data.drop_duplicates()"
      ],
      "execution_count": null,
      "outputs": []
    },
    {
      "cell_type": "code",
      "metadata": {
        "id": "P8pmVAoBRMS3"
      },
      "source": [
        "sample_data.nunique()#Displat the unique data"
      ],
      "execution_count": null,
      "outputs": []
    },
    {
      "cell_type": "markdown",
      "metadata": {
        "id": "OsYaGHYXRkMb"
      },
      "source": [
        "Drop thr irrelevent column"
      ]
    },
    {
      "cell_type": "code",
      "metadata": {
        "id": "6JBVA3VJRc37"
      },
      "source": [
        "col = ['Postal Code']\n",
        "sample_drop = sample_data.drop(columns=col, axis=1)"
      ],
      "execution_count": null,
      "outputs": []
    },
    {
      "cell_type": "code",
      "metadata": {
        "id": "yC77wyxcR-pn"
      },
      "source": [
        "sample_drop.corr()\n",
        "sample_drop.cov()\n",
        "sample_drop.head()"
      ],
      "execution_count": null,
      "outputs": []
    },
    {
      "cell_type": "markdown",
      "metadata": {
        "id": "OSADaXSQS01P"
      },
      "source": [
        "# Data Visulation"
      ]
    },
    {
      "cell_type": "code",
      "metadata": {
        "id": "ixNE616PStZ4"
      },
      "source": [
        "plt.figure(figsize=(16,8))\n",
        "plt.bar(\"Sub-Category\",\"Category\",data=sample_drop, color=\"green\")\n",
        "plt.title(\"Category vs Sub-Category\",fontsize=20)\n",
        "plt.xlabel('Sub-Category',fontsize=15)\n",
        "plt.ylabel('Category',fontsize=15)\n",
        "plt.xticks(rotation=45)\n",
        "plt.show()"
      ],
      "execution_count": null,
      "outputs": []
    },
    {
      "cell_type": "code",
      "metadata": {
        "id": "L4Y5Yy4WUB9U"
      },
      "source": [
        "sample_drop.hist(bins=50,figsize=(20,15))\n",
        "plt.show()"
      ],
      "execution_count": null,
      "outputs": []
    },
    {
      "cell_type": "code",
      "metadata": {
        "id": "SvUgnyfPUVkw"
      },
      "source": [
        "sample_drop['State'].value_counts() # Count the repeateable states"
      ],
      "execution_count": null,
      "outputs": []
    },
    {
      "cell_type": "code",
      "metadata": {
        "id": "dcm2VnPBUiwx"
      },
      "source": [
        "plt.figure(figsize=(16,16))\n",
        "sns.countplot(x=sample_drop['State'])\n",
        "plt.title(\"STATE\")\n",
        "plt.xticks(rotation=90)\n",
        "plt.show()"
      ],
      "execution_count": null,
      "outputs": []
    },
    {
      "cell_type": "code",
      "metadata": {
        "id": "0wG87wfSVGxv"
      },
      "source": [
        "plt.figure(figsize=(12,10))\n",
        "sample_drop['Sub-Category'].value_counts().plot.pie(autopct=\"%1.1f%%\")\n",
        "plt.show()"
      ],
      "execution_count": null,
      "outputs": []
    },
    {
      "cell_type": "code",
      "metadata": {
        "id": "8rK7B5ueV0bR"
      },
      "source": [
        "sample_drop.groupby('Sub-Category')['Profit','Sales'].agg(['sum']).plot.bar()\n",
        "plt.title('TOTAL PROFIT AND SALES PER SUB-CATEGORY')\n",
        "plt.show()\n",
        "\n",
        "sns.set(style=\"whitegrid\")\n",
        "plt.figure(2,figsize=(16,8))\n",
        "\n",
        "sns.barplot(x='Sub-Category',y='Profit',data=sample_data,palette='Spectral')\n",
        "plt.suptitle(\"PIE CONSUMPTION PATTEERN IN THE UNITED STATE\",fontsize=20)\n",
        "plt.show()"
      ],
      "execution_count": null,
      "outputs": []
    },
    {
      "cell_type": "code",
      "metadata": {
        "id": "HAGvZHTWXJAI"
      },
      "source": [
        "sns.countplot(x=sample_data['Ship Mode'])\n",
        "plt.show()"
      ],
      "execution_count": null,
      "outputs": []
    },
    {
      "cell_type": "code",
      "metadata": {
        "id": "PTNFVbbBWcp1"
      },
      "source": [
        "# ploting pair plot for Sub-Category\n",
        "figsize=(15,10)\n",
        "sns.pairplot(sample_drop,hue=\"Sub-Category\")\n",
        "plt.show()"
      ],
      "execution_count": null,
      "outputs": []
    },
    {
      "cell_type": "code",
      "metadata": {
        "id": "xk8lzFTjXa5c"
      },
      "source": [
        "plt.figure(figsize=(10,4))\n",
        "sns.lineplot('Discount','Profit',data=sample_drop,color='y', label=\"Discount\")\n",
        "plt.legend()\n",
        "plt.show()"
      ],
      "execution_count": null,
      "outputs": []
    },
    {
      "cell_type": "code",
      "metadata": {
        "id": "N_xBAqH4ZGlw"
      },
      "source": [
        "def state_data_viewer(state):\n",
        "  product_data = sample_drop.groupby(['State'])\n",
        "  for state in states:\n",
        "    data=product_data.get_group(state).groupby(['Category'])\n",
        "    fig,ax=plt.subplots(1,3,figsize=(28,5))\n",
        "    fig.suptitle(state,fontsize=14)\n",
        "    ax_index=0\n",
        "  for cat in ['Furniture','Office','Supplies','Technology']:\n",
        "    cat_data=data.get_group(cat).groupby(['Sub-Category']).sum()\n",
        "    sns.barplot(x=cat_data.Profit,y=cat_data.index,ax=ax[ ax_index])\n",
        "    ax[ ax_index].set_ylabel(cat)\n",
        "    ax_index +=1\n",
        "    fig.show()\n",
        "states=['California','Washington','Mississippi','Arizona','Texas']\n",
        "state_data_viewer(states)"
      ],
      "execution_count": null,
      "outputs": []
    },
    {
      "cell_type": "markdown",
      "metadata": {
        "id": "Olot9A85d1pt"
      },
      "source": [
        "# conclusion\n",
        "1. From the Histogram graph for profit, discount, quality and sales, we can  say that data is not normal\n",
        "2. from plotting pair plots for Sub=Category graphs, there are outliers.\n",
        "3. From the above Data Visulations, we can see the states and thje category ehere sales and profit are high or less. we can improve in those states by providing discounts in the preffered range so that the company and consumer will both be in profit."
      ]
    },
    {
      "cell_type": "code",
      "metadata": {
        "id": "0frrb5WRdpgM"
      },
      "source": [
        ""
      ],
      "execution_count": null,
      "outputs": []
    }
  ]
}